{
 "cells": [
  {
   "cell_type": "code",
   "execution_count": 7,
   "id": "1f7fa73b-6c14-4170-87cc-16cef9f95f37",
   "metadata": {},
   "outputs": [],
   "source": [
    "import ee\n",
    "import os\n",
    "import geemap\n",
    "import datetime\n",
    "from ee.batch import Export, Task\n",
    "from dateutil.relativedelta import *\n",
    "os.environ['HTTP_PROXY'] = 'http://127.0.0.1:4780'\n",
    "os.environ['HTTPS_PROXY'] = 'http://127.0.0.1:4780'\n",
    "ee.Initialize()"
   ]
  },
  {
   "cell_type": "code",
   "execution_count": 4,
   "id": "49b5b492-4caf-44f8-b6ff-72cb2a86dd40",
   "metadata": {},
   "outputs": [],
   "source": [
    "# ee.Authenticate()"
   ]
  },
  {
   "cell_type": "markdown",
   "id": "8ded4b2f-7b2d-4651-9fa5-74ad18419e7a",
   "metadata": {},
   "source": [
    "# 直接加载roi为福建省（也就是研究区，注意，太大的shapefile不支持这种方法直接读取，请手动上传到GEE平台）"
   ]
  },
  {
   "cell_type": "code",
   "execution_count": 9,
   "id": "bc05e6d5-9ff6-422e-8e58-a1db6326066e",
   "metadata": {},
   "outputs": [],
   "source": [
    "roi_path = r\"E:\\phd_l1\\微信公众号\\20250421_GEE注册py安装全流程\\Fujian_prov.shp\"\n",
    "roi = geemap.shp_to_ee(roi_path)"
   ]
  },
  {
   "cell_type": "markdown",
   "id": "b187e59b-bcd2-4ab0-8063-18ba5d90d5ff",
   "metadata": {},
   "source": [
    "# hourly wind speed u and v component //2010年6月福建下载示例，可调整代码循环直接下载多年数据"
   ]
  },
  {
   "cell_type": "code",
   "execution_count": 10,
   "id": "bde4b20a-4eec-4e62-844d-ba1d6c3f4f9b",
   "metadata": {},
   "outputs": [
    {
     "name": "stdout",
     "output_type": "stream",
     "text": [
      "正在导出 ERA5_wind_u_2010_6 到Google Drive的 ERA5_wind_hourly 文件夹\n",
      "正在导出 ERA5_wind_v_2010_6 到Google Drive的 ERA5_wind_hourly 文件夹\n"
     ]
    }
   ],
   "source": [
    "# ======================================================\n",
    "# ERA5-Land小时级风场数据导出脚本\n",
    "# \n",
    "# 功能：从ERA5-Land数据集导出指定时间段的10米高度u/v风分量数据到Google Drive\n",
    "#\n",
    "# 使用前提：\n",
    "# 1. 已安装并验证Earth Engine Python API\n",
    "# ======================================================\n",
    "\n",
    "# 用户配置区：\n",
    "# 设置需要导出的起始年份和月份(1-12月)\n",
    "start_year = 2010  # 修改为您需要的起始年份\n",
    "start_month = 6    # 修改为您需要的起始月份(1-12),如果需要批量下载多年请直接设置为1\n",
    "\n",
    "# 主处理循环\n",
    "for dy in range(1):  # 年份偏移量循环(当前设置为仅处理起始年份)\n",
    "    # 创建起始日期对象(每月1号)\n",
    "    start = datetime.datetime.strptime(f'{start_year}-{start_month:02d}-01', '%Y-%m-%d') + relativedelta(years = +dy)\n",
    "    \n",
    "    for t in range(1):  # 月份偏移量循环(当前设置为仅处理起始月份)\n",
    "        # 设置时间范围(当月1号到下个月1号)\n",
    "        start_time = ee.Date(str(start + relativedelta(months = +t)).split()[0])\n",
    "        end_time = ee.Date(str(start + relativedelta(months = +(t+1))).split()[0])\n",
    "        \n",
    "        # 处理10米高度u分量风场数据\n",
    "        era5_wind_u = ee.ImageCollection('ECMWF/ERA5_LAND/HOURLY') \\\n",
    "                           .select('u_component_of_wind_10m') \\\n",
    "                           .filter(ee.Filter.date(start_time, end_time)).toBands().clip(roi).unmask(-9999)\n",
    "        \n",
    "        # 设置导出文件名格式：ERA5_wind_u_年份_月份\n",
    "        name = f\"ERA5_wind_u_{start_year+dy}_{t+start_month}\"\n",
    "        folder = \"ERA5_wind_hourly\"  # Google Drive中的目标文件夹\n",
    "        \n",
    "        # 创建导出任务到Google Drive\n",
    "        task = ee.batch.Export.image.toDrive(image=era5_wind_u, description=name,fileNamePrefix=name, folder=folder, maxPixels=int(1e13), scale=11132, region=roi.geometry(), fileFormat='GeoTIFF')\n",
    "        task.start()\n",
    "        print('正在导出 {} 到Google Drive的 {} 文件夹'.format(name, folder))\n",
    "\n",
    "        # 处理10米高度v分量风场数据（流程同上）\n",
    "        era5_wind_v = ee.ImageCollection('ECMWF/ERA5_LAND/HOURLY') \\\n",
    "                           .select('v_component_of_wind_10m') \\\n",
    "                           .filter(ee.Filter.date(start_time, end_time)).toBands().clip(roi).unmask(-9999)\n",
    "        name = f\"ERA5_wind_v_{start_year+dy}_{t+start_month}\"\n",
    "        task = ee.batch.Export.image.toDrive(image=era5_wind_v, description=name,fileNamePrefix=name, folder=folder, maxPixels=int(1e13), scale=11132, region=roi.geometry(), fileFormat='GeoTIFF')\n",
    "        task.start()\n",
    "        print('正在导出 {} 到Google Drive的 {} 文件夹'.format(name, folder))\n",
    "\n",
    "# ======================================================\n",
    "# 使用说明：\n",
    "# 1. 修改start_year和start_month为需要导出的年月\n",
    "# 2. 调整range(1)参数可导出多个月份/年份数据\n",
    "# 3. 导出文件将包含指定时间段内所有小时级数据\n",
    "# 4. 默认输出到Google Drive的\"ERA5_wind_hourly\"文件夹\n",
    "# 5. 缺失值被替换为-9999\n",
    "# 6. 输出分辨率为11132米(约0.1度)\n",
    "# ======================================================"
   ]
  },
  {
   "cell_type": "code",
   "execution_count": null,
   "id": "51484837-550e-401f-99ba-07305736ff3d",
   "metadata": {},
   "outputs": [],
   "source": []
  }
 ],
 "metadata": {
  "kernelspec": {
   "display_name": "Python 3 (ipykernel)",
   "language": "python",
   "name": "python3"
  },
  "language_info": {
   "codemirror_mode": {
    "name": "ipython",
    "version": 3
   },
   "file_extension": ".py",
   "mimetype": "text/x-python",
   "name": "python",
   "nbconvert_exporter": "python",
   "pygments_lexer": "ipython3",
   "version": "3.11.3"
  }
 },
 "nbformat": 4,
 "nbformat_minor": 5
}
