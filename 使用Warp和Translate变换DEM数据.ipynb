{
 "cells": [
  {
   "cell_type": "markdown",
   "id": "4f6cc069-7cbe-4dd3-8829-6e2748c6c6bb",
   "metadata": {},
   "source": [
    "# 导入库"
   ]
  },
  {
   "cell_type": "code",
   "execution_count": 8,
   "id": "62fe0e93-580f-4ca1-806b-8a75215c3a59",
   "metadata": {},
   "outputs": [],
   "source": [
    "from osgeo import gdal, osr\n",
    "import numpy as np\n",
    "import matplotlib.pyplot as plt\n",
    "import os #系统库"
   ]
  },
  {
   "cell_type": "markdown",
   "id": "089b9400-4a46-4234-bae6-af4e4ca83182",
   "metadata": {},
   "source": [
    "# 拼接数据函数"
   ]
  },
  {
   "cell_type": "code",
   "execution_count": 2,
   "id": "433ac445-6ccf-433d-ad45-4a63d44d1721",
   "metadata": {},
   "outputs": [],
   "source": [
    "def raster_merge(image_list, xres, yres, merged_path):\n",
    "    \"\"\"\n",
    "    :param image_list: 拼接文件路径列表，可同时拼接多个文件\n",
    "    :param xres: 输出文件水平分辨率\n",
    "    :param yres: 输出文件垂直方向分辨率，一般为负值\n",
    "    :param merged_name: 输出文件路径\n",
    "    :param: nodata: 设置输出图像的无效值\n",
    "    :return:\n",
    "    \"\"\"\n",
    "    vrt = gdal.BuildVRT(\"merged.vrt\", image_list)\n",
    "    gdal.Translate(merged_path, vrt, xRes=xres, yRes=yres, resampleAlg=\"bilinear\", outputType=gdal.GDT_Int16,\n",
    "                   creationOptions=[\"COMPRESS=LZW\"])\n",
    "    vrt = None\n",
    "    os.remove(\"merged.vrt\")"
   ]
  },
  {
   "cell_type": "markdown",
   "id": "bb540dee-6409-4f7e-bc1a-ef16ed21dfd6",
   "metadata": {},
   "source": [
    "# 读取DEM数据，并拼接"
   ]
  },
  {
   "cell_type": "code",
   "execution_count": 3,
   "id": "be8dc07f-446f-41c9-b75e-4cf6e09ae37b",
   "metadata": {},
   "outputs": [],
   "source": [
    "#存储DEM数据的文件夹\n",
    "input_folder = \"E:/l3/极端事件汇报/代码和文件/3.变换DEM数据/输入文件/DEM数据/\"\n",
    "#存储DEM数据路径的列表\n",
    "files = [input_folder + f for f in os.listdir(input_folder) if f[-4:]==\".tif\"]\n",
    "merged_dem = r\"E:\\l3\\极端事件汇报\\代码和文件\\3.变换DEM数据\\输入文件\\输出数据\\merged_dem.tif\"\n",
    "raster_merge(files, 0.00027777777777777805, 0.0002777777777777774, merged_dem)"
   ]
  },
  {
   "cell_type": "markdown",
   "id": "f815cea7-5be6-4dc3-9b6d-c45db54ef940",
   "metadata": {},
   "source": [
    "# 使用延庆区的shapefile裁剪DEM数据"
   ]
  },
  {
   "cell_type": "code",
   "execution_count": 4,
   "id": "2e78bfd7-e860-4672-8f73-fb4e75f8a9aa",
   "metadata": {},
   "outputs": [],
   "source": [
    "#拼接的DEM路径\n",
    "dem_merged = r\"E:\\l3\\极端事件汇报\\代码和文件\\3.变换DEM数据\\输入文件\\输出数据\\merged_dem.tif\"\n",
    "in_mask = r\"E:\\l3\\极端事件汇报\\代码和文件\\3.变换DEM数据\\输入文件\\区域文件\\yanqing.shp\"\n",
    "yanqing_dem = r\"E:\\l3\\极端事件汇报\\代码和文件\\3.变换DEM数据\\输入文件\\输出数据\\yanqing.tif\"\n",
    "ds = gdal.Warp(yanqing_dem, dem_merged\n",
    "                     , cutlineDSName=in_mask, cropToCutline=True,\n",
    "                     dstNodata=-32768, creationOptions=[ \"COMPRESS=LZW\"])\n",
    "del ds"
   ]
  },
  {
   "cell_type": "markdown",
   "id": "ee5d15b3-a2ad-4b28-b583-29616a7af4a4",
   "metadata": {},
   "source": [
    "# 定义Alberts投影函数"
   ]
  },
  {
   "cell_type": "code",
   "execution_count": 13,
   "id": "50609e72-7678-47fc-91c2-fe1b9e9da5f1",
   "metadata": {},
   "outputs": [],
   "source": [
    "def Albers_Conic_Equal_Area_China(input_tif, out_path):\n",
    "    #使用PROJ字符串进行初始化\n",
    "    dataset = gdal.Open(input_tif)\n",
    "    # proj = dataset.GetProjection()\n",
    "    srs = osr.SpatialReference()\n",
    "    # srs.ImportFromWkt(proj)\n",
    "    # print(srs.ExportToproj4())\n",
    "    # print('---------------------------')\n",
    "    \n",
    "    #定义投影\n",
    "    srs.ImportFromProj4(\"+proj=aea +lat_0=0 +lon_0=105 +lat_1=25 +lat_2=47 +x_0=0 +y_0=0 +datum=WGS84 +units=m +no_defs\")\n",
    "    repro_ds = gdal.Warp(out_path, dataset, dstSRS=srs,\n",
    "                           xRes=30, yRes=30,\n",
    "                           resampleAlg = gdal.GRA_Bilinear,\n",
    "                           outputType=gdal.GDT_Int16,\n",
    "                           options=[\"COMPRESS=LZW\"])\n",
    "    # srcNodata=3, dstNodata=3,\n",
    "                           # outputBounds=(542103.969791774, 4337959.14804815, 1122333.96979177, 4848349.14804815),\n",
    "    print(\"projection has been processed.\")\n",
    "    del dataset\n",
    "    del repro_ds"
   ]
  },
  {
   "cell_type": "markdown",
   "id": "7b9dd248-8670-4274-9536-6242ce954e5d",
   "metadata": {},
   "source": [
    "# 读取DEM数据，转换坐标系"
   ]
  },
  {
   "cell_type": "code",
   "execution_count": 14,
   "id": "3e542565-46c5-44ea-99a9-be1204c1d1d7",
   "metadata": {},
   "outputs": [
    {
     "name": "stdout",
     "output_type": "stream",
     "text": [
      "projection has been processed.\n"
     ]
    }
   ],
   "source": [
    "# 延庆DEM数据路径\n",
    "dem_path = r\"E:\\l3\\极端事件汇报\\代码和文件\\3.变换DEM数据\\输入文件\\输出数据\\yanqing.tif\"\n",
    "output_path = r\"E:\\l3\\极端事件汇报\\代码和文件\\3.变换DEM数据\\输入文件\\输出数据\\yanqing_reproj.tif\"\n",
    "Albers_Conic_Equal_Area_China(dem_path, output_path)"
   ]
  },
  {
   "cell_type": "markdown",
   "id": "ea4fb162-292e-44f0-9765-82a4e0a027e2",
   "metadata": {},
   "source": [
    "# 将投影后的DEM分辨率重采样到100 m"
   ]
  },
  {
   "cell_type": "code",
   "execution_count": 15,
   "id": "38a02c88-66b6-4b6c-bc7b-8ebb02e57765",
   "metadata": {},
   "outputs": [],
   "source": [
    "dem_path = r\"E:\\l3\\极端事件汇报\\代码和文件\\3.变换DEM数据\\输入文件\\输出数据\\yanqing_reproj.tif\"\n",
    "output_path = r\"E:\\l3\\极端事件汇报\\代码和文件\\3.变换DEM数据\\输入文件\\输出数据\\yanqing_reproj_resampled.tif\"\n",
    "\n",
    "resampled_ds = gdal.Warp(output_path, dem_path, \n",
    "                           xRes=100, yRes=100,\n",
    "                           resampleAlg = gdal.GRA_Bilinear,\n",
    "                           options=[\"COMPRESS=LZW\"])\n",
    "del resampled_ds"
   ]
  },
  {
   "cell_type": "code",
   "execution_count": null,
   "id": "1070ed34-9e7b-4bd1-8113-3c39daaeb1a0",
   "metadata": {},
   "outputs": [],
   "source": []
  }
 ],
 "metadata": {
  "kernelspec": {
   "display_name": "Python 3 (ipykernel)",
   "language": "python",
   "name": "python3"
  },
  "language_info": {
   "codemirror_mode": {
    "name": "ipython",
    "version": 3
   },
   "file_extension": ".py",
   "mimetype": "text/x-python",
   "name": "python",
   "nbconvert_exporter": "python",
   "pygments_lexer": "ipython3",
   "version": "3.11.3"
  }
 },
 "nbformat": 4,
 "nbformat_minor": 5
}
